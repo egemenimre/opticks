{
 "cells": [
  {
   "cell_type": "markdown",
   "metadata": {},
   "source": [
    "# Basic Monochrome MWIR Imager on a Drone\n",
    "\n",
    "\n",
    "Computing the basic parameters of a monochrome imager on a drone. Valid for a single band."
   ]
  },
  {
   "cell_type": "markdown",
   "metadata": {},
   "source": [
    "## Loading the Imager Parameters\n",
    "\n",
    "We have to start with the opticks package import (as the notebook sometimes fails to find it).\n",
    "\n",
    "An imager is made up of three parts: Optics, Detector and (optionally) Read-out/Write Electronics. We load the configuration files for each part and initialise the `Imager` object."
   ]
  },
  {
   "cell_type": "code",
   "execution_count": 1,
   "metadata": {},
   "outputs": [],
   "source": [
    "# If opticks import fails, try to locate the module\n",
    "import os\n",
    "\n",
    "try:\n",
    "    import opticks\n",
    "except ModuleNotFoundError:\n",
    "    os.chdir(os.path.join(\"..\", \"..\"))\n",
    "    os.getcwd()"
   ]
  },
  {
   "cell_type": "code",
   "execution_count": 2,
   "metadata": {},
   "outputs": [
    {
     "name": "stdout",
     "output_type": "stream",
     "text": [
      "current working directory: /home/egemen/Projects/opticks\n",
      "optics file:  [docs/examples/sample_drone_imager/optics.yaml] (file exists:  True)\n",
      "detector file exists:  [docs/examples/sample_drone_imager/detector.yaml] (file exists:  True)\n",
      "RW electronics file exists:  [docs/examples/sample_drone_imager/rw_electronics.yaml] (file exists:  True)\n"
     ]
    }
   ],
   "source": [
    "from pathlib import Path\n",
    "\n",
    "from opticks.imager_model.detector import Channel\n",
    "from opticks.imager_model.imager import Imager\n",
    "\n",
    "print(f\"current working directory: {Path.cwd()}\")\n",
    "\n",
    "file_directory = Path(\"docs\", \"examples\", \"sample_drone_imager\")\n",
    "optics_file_path = file_directory.joinpath(\"optics.yaml\")\n",
    "detector_file_path = file_directory.joinpath(\"detector.yaml\")\n",
    "rw_electronics_file_path = file_directory.joinpath(\"rw_electronics.yaml\")\n",
    "\n",
    "# check whether input files exist\n",
    "print(\n",
    "    f\"optics file:  [{optics_file_path}] (file exists:  {optics_file_path.is_file()})\"\n",
    ")\n",
    "print(\n",
    "    f\"detector file exists:  [{detector_file_path}] (file exists:  {detector_file_path.is_file()})\"\n",
    ")\n",
    "print(\n",
    "    f\"RW electronics file exists:  [{rw_electronics_file_path}] (file exists:  {rw_electronics_file_path.is_file()})\"\n",
    ")\n",
    "\n",
    "# Init imager object\n",
    "imager = Imager.from_yaml_file(\n",
    "    optics_file_path, detector_file_path, rw_electronics_file_path\n",
    ")\n",
    "\n",
    "# shorthands\n",
    "optics = imager.optics\n",
    "detector = imager.detector\n",
    "rw_electronics = imager.rw_electronics\n",
    "\n",
    "# select the MWIR channel\n",
    "band_id = \"mwir\"\n",
    "channel: Channel = detector.params.channels.all[band_id]\n",
    "\n",
    "# binning status\n",
    "binning_on = False if channel.binning == 1 else True"
   ]
  },
  {
   "cell_type": "markdown",
   "metadata": {},
   "source": [
    "## Setting the Scene\n",
    "\n",
    "Reference parameters for the camera position and motion with respect to the target are given below:"
   ]
  },
  {
   "cell_type": "code",
   "execution_count": 3,
   "metadata": {},
   "outputs": [
    {
     "name": "stdout",
     "output_type": "stream",
     "text": [
      "target distance : 10.0 km \n"
     ]
    }
   ],
   "source": [
    "import numpy as np\n",
    "\n",
    "from opticks import u\n",
    "\n",
    "# positional params\n",
    "# ---------------------\n",
    "distance = 10.0 * u.km\n",
    "\n",
    "print(f\"target distance : {distance:~P} \")"
   ]
  },
  {
   "cell_type": "markdown",
   "metadata": {},
   "source": [
    "Certain parameters vary with the light characteristics and therefore wavelength dependent. For a MWIR sensor, 3000 to 5000 nm can be selected. \n",
    "\n",
    "Note the widely used bands:\n",
    "\n",
    "- blue: 450-485 nm\n",
    "- green: 500-565 nm\n",
    "- red: 625-750 nm\n",
    "- nir: 750-1400 nm\n",
    "- swir: 1400-3000 nm\n",
    "- mwir: 3000-8000 nm"
   ]
  },
  {
   "cell_type": "code",
   "execution_count": 4,
   "metadata": {},
   "outputs": [],
   "source": [
    "ref_wavelength = 4000 * u.nm"
   ]
  },
  {
   "cell_type": "markdown",
   "metadata": {},
   "source": [
    "## Extracting the Imager Parameters\n",
    "\n",
    "### Optical Parameters\n",
    "\n",
    "Basic and derived optical parameters are given below for the optics:\n"
   ]
  },
  {
   "cell_type": "code",
   "execution_count": 5,
   "metadata": {},
   "outputs": [
    {
     "name": "stdout",
     "output_type": "stream",
     "text": [
      "Basic Optical Params:\n",
      "optics id: Sample Reflective Optics\n",
      "focal length : 300 mm\n",
      "aperture diameter : 130 mm\n",
      "image diameter on focal plane : 12.3 mm\n",
      "\n",
      "Derived Optical Params:\n",
      "f-number : 2.308\n",
      "full optical fov : 2.349 deg\n",
      "aperture area : 132.732 cm²\n",
      "spatial cut-off freq  : 108.33 cy/mm (at 4000 nm)\n"
     ]
    }
   ],
   "source": [
    "print(\"Basic Optical Params:\")\n",
    "\n",
    "print(f\"optics id: {optics.params.name}\")\n",
    "print(f\"focal length : {optics.params.focal_length:~}\")\n",
    "print(f\"aperture diameter : {optics.params.aperture_diameter:~}\")\n",
    "print(f\"image diameter on focal plane : {optics.params.image_diam_on_focal_plane:~}\")\n",
    "\n",
    "print()\n",
    "print(\"Derived Optical Params:\")\n",
    "\n",
    "print(f\"f-number : {optics.f_number:.4}\")\n",
    "print(f\"full optical fov : {optics.full_optical_fov:~P.4}\")\n",
    "print(f\"aperture area : {optics.aperture_area.to(\"cm**2\"):~P.6}\")\n",
    "print(f\"spatial cut-off freq  : {optics.spatial_cutoff_freq(ref_wavelength):~P.5} (at {ref_wavelength:~P})\")\n"
   ]
  },
  {
   "cell_type": "markdown",
   "metadata": {},
   "source": [
    "### Detector Parameters\n",
    "\n",
    "Basic and derived detector parameters are given below for the optics:"
   ]
  },
  {
   "cell_type": "code",
   "execution_count": 6,
   "metadata": {},
   "outputs": [
    {
     "name": "stdout",
     "output_type": "stream",
     "text": [
      "Basic Detector Params:\n",
      "detector id: Sample Full-Frame Detector\n",
      "detector type : full frame\n",
      "horizontal x vertical pixels (detector) : 1280 x 720\n",
      "horizontal x vertical pixels (channel) : 1280 x 720\n",
      "binning : None\n",
      "pixel pitch : 8 µm \n",
      "TDI stages : None\n",
      "\n",
      "Derived Detector Params:\n",
      "Nyquist freq : 62.5 cy/mm \n",
      "number of pixels (full frame) : 0.9216 Mpixel\n",
      "number of pixels (full frame, channel) : 0.9216 Mpixel \n"
     ]
    }
   ],
   "source": [
    "print(\"Basic Detector Params:\")\n",
    "\n",
    "print(f\"detector id: {detector.params.name}\")\n",
    "print(f\"detector type : {detector.params.detector_type}\")\n",
    "print(f\"horizontal x vertical pixels (detector) : {detector.params.horizontal_pixels} x {detector.params.vertical_pixels}\")\n",
    "print(f\"horizontal x vertical pixels (channel) : {channel.horizontal_pixels} x {channel.vertical_pixels}\")\n",
    "print(f\"binning : {channel.binning if binning_on else 'None'}\")\n",
    "print(f\"pixel pitch : {channel.pixel_pitch(False):~P} {f\"({channel.pixel_pitch(True):~P} binned)\" if binning_on else ''}\")\n",
    "print(f\"TDI stages : {'None' if channel.tdi_stages == 1 else channel.tdi_stages}\")\n",
    "\n",
    "print()\n",
    "print(\"Derived Detector Params:\")\n",
    "\n",
    "print(f\"Nyquist freq : {channel.nyquist_freq(False):~P.4} {f\"({channel.nyquist_freq(True):~P.4} binned)\" if binning_on else ''}\")\n",
    "print(f\"number of pixels (full frame) : {detector.pixel_count:~P.4}\")\n",
    "print(f\"number of pixels (full frame, channel) : {channel.pixel_count_frame(False):~P.4} {f\"({channel.pixel_count_frame(True):~P.4} binned)\" if binning_on else ''}\")\n"
   ]
  },
  {
   "cell_type": "markdown",
   "metadata": {},
   "source": [
    "### Imager Geometry Parameters\n",
    "\n",
    "The derived parameters are given below for the imager:"
   ]
  },
  {
   "cell_type": "code",
   "execution_count": 7,
   "metadata": {},
   "outputs": [
    {
     "name": "stdout",
     "output_type": "stream",
     "text": [
      "ifov : 1.528 mdeg \n",
      "pixel solid angle : 7.11×10⁻¹⁰ sr \n",
      "horizontal full fov: 1.956 deg\n",
      "vertical full fov: 1.1 deg\n"
     ]
    }
   ],
   "source": [
    "print(f\"ifov : {imager.ifov(band_id, False):~P.4} {f\"({imager.ifov(band_id, True):~P.4} binned)\" if binning_on else ''}\")\n",
    "print(f\"pixel solid angle : {imager.pix_solid_angle(band_id, False):~P.4} {f\"({imager.pix_solid_angle(band_id, True):~P.4} binned)\" if binning_on else ''}\")\n",
    "print(f\"horizontal full fov: {imager.horizontal_fov(band_id):~P.4}\")\n",
    "print(f\"vertical full fov: {imager.vertical_fov(band_id):~P.4}\")"
   ]
  },
  {
   "cell_type": "markdown",
   "metadata": {},
   "source": [
    "### Geometric Projection Parameters"
   ]
  },
  {
   "cell_type": "code",
   "execution_count": 8,
   "metadata": {},
   "outputs": [
    {
     "name": "stdout",
     "output_type": "stream",
     "text": [
      "target distance : 10.0 km\n",
      "image width : 0.3413 km (at target distance)\n",
      "image height : 0.192 km (at target distance)\n",
      "\n",
      "Spatial sample distance at 10.0 km target distance:\n",
      "ssd centre (unbinned): 0.2666 m , 0.2666 m (horizontal, vertical at target distance)\n",
      "ssd right (unbinned): 0.2667 m , 0.2667 m (horizontal, vertical at target distance)\n",
      "ssd top (unbinned): 0.2667 m , 0.2667 m (horizontal, vertical at target distance)\n",
      "ssd corner (unbinned): 0.2667 m , 0.2667 m (horizontal, vertical at target distance)\n"
     ]
    }
   ],
   "source": [
    "# image width and height assuming flat plate and constant Instantaneous FoV\n",
    "image_width = imager.projected_horiz_img_extent(distance, band_id)\n",
    "image_height = imager.projected_vert_img_extent(distance, band_id)\n",
    "\n",
    "\n",
    "print(f\"target distance : {distance:~P}\")   \n",
    "print(f\"image width : {image_width:~.4P} (at target distance)\")\n",
    "print(f\"image height : {image_height:~.4P} (at target distance)\")\n",
    "print()\n",
    "\n",
    "# Spatial sample distance at distance\n",
    "print(f\"Spatial sample distance at {distance:~P} target distance:\")\n",
    "\n",
    "if binning_on:\n",
    "    ssd_centre_binned = imager.spatial_sample_distance(distance, band_id, True, \"centre\")\n",
    "    print(f\"ssd centre (binned): {ssd_centre_binned.horiz:~.4P} , {ssd_centre_binned.vert:~.4P} (horizontal, vertical at target distance)\")\n",
    "\n",
    "ssd_centre = imager.spatial_sample_distance(distance, band_id, False, \"centre\")\n",
    "print(f\"ssd centre (unbinned): {ssd_centre.horiz:~.4P} , {ssd_centre.vert:~.4P} (horizontal, vertical at target distance)\")\n",
    "\n",
    "ssd_centre_right = imager.spatial_sample_distance(distance, band_id, False, \"centre right\")\n",
    "print(f\"ssd right (unbinned): {ssd_centre_right.horiz:~.4P} , {ssd_centre_right.vert:~.4P} (horizontal, vertical at target distance)\")\n",
    "ssd_centre_top = imager.spatial_sample_distance(distance, band_id, False, \"centre top\")\n",
    "print(f\"ssd top (unbinned): {ssd_centre_top.horiz:~.4P} , {ssd_centre_top.vert:~.4P} (horizontal, vertical at target distance)\")\n",
    "ssd_corner = imager.spatial_sample_distance(distance, band_id, False, \"corner\")\n",
    "print(f\"ssd corner (unbinned): {ssd_corner.horiz:~.4P} , {ssd_corner.vert:~.4P} (horizontal, vertical at target distance)\")"
   ]
  },
  {
   "cell_type": "markdown",
   "metadata": {},
   "source": [
    "### Timings"
   ]
  },
  {
   "cell_type": "code",
   "execution_count": 9,
   "metadata": {},
   "outputs": [
    {
     "name": "stdout",
     "output_type": "stream",
     "text": [
      "frame rate :  29.97 Hz (33.37 ms)\n",
      "max integration duration : 33.37 ms\n",
      "actual integration duration : 13.34 ms\n"
     ]
    }
   ],
   "source": [
    "timings = detector.params.timings\n",
    "\n",
    "print(f\"frame rate :  {timings.frame_rate:~P.6} ({timings.frame_duration:~P.4})\")\n",
    "print(f\"max integration duration : {timings.max_integration_duration:~P.4}\")\n",
    "print(f\"actual integration duration : {timings.integration_duration:~P.4}\")"
   ]
  },
  {
   "cell_type": "markdown",
   "metadata": {},
   "source": [
    "### Read-out/Write Electronics"
   ]
  },
  {
   "cell_type": "code",
   "execution_count": 10,
   "metadata": {},
   "outputs": [
    {
     "name": "stdout",
     "output_type": "stream",
     "text": [
      "pixel read rate : 27.6204 Mpixel/s  (MWIR channel)\n",
      "data write rate (uncompressed, incl. overheads) : 338.073 Mbit/s  (MWIR channel)\n",
      "data write rate (compressed, incl. overheads) : 140.864 Mbit/s  (MWIR channel)\n"
     ]
    }
   ],
   "source": [
    "print(\n",
    "    f\"pixel read rate : {channel.pix_read_rate(timings.frame_rate, False, False):~P.6} {f'({channel.pix_read_rate(timings.frame_rate, True, False):~P.6} binned)' if binning_on else ''} ({channel.name} channel)\"\n",
    ")\n",
    "\n",
    "print(\n",
    "    f\"data write rate (uncompressed, incl. overheads) : {imager.data_write_rate(band_id, False, False):~P.6} {f'({imager.data_write_rate(band_id, True, False):~P.6} binned)' if binning_on else ''} ({channel.name} channel)\"\n",
    ")\n",
    "print(\n",
    "    f\"data write rate (compressed, incl. overheads) : {imager.data_write_rate(band_id, False, True):~P.6} {f'({imager.data_write_rate(band_id, True, True):~P.6} binned)' if binning_on else ''} ({channel.name} channel)\"\n",
    ")"
   ]
  }
 ],
 "metadata": {
  "kernelspec": {
   "display_name": "opticks",
   "language": "python",
   "name": "python3"
  },
  "language_info": {
   "codemirror_mode": {
    "name": "ipython",
    "version": 3
   },
   "file_extension": ".py",
   "mimetype": "text/x-python",
   "name": "python",
   "nbconvert_exporter": "python",
   "pygments_lexer": "ipython3",
   "version": "3.12.4"
  }
 },
 "nbformat": 4,
 "nbformat_minor": 2
}
