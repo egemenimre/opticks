{
 "cells": [
  {
   "attachments": {},
   "cell_type": "markdown",
   "id": "1e94fadb-3dd8-470c-9277-9e68b09724ca",
   "metadata": {},
   "source": [
    "# Basic Monochrome Imager on a Drone\n",
    "\n",
    "Computing the basic parameters of a monochrome imager on a drone. Valid for a single band.\n",
    "\n",
    "Reference parameters for the scene and camera position with respect to the target are given below."
   ]
  },
  {
   "cell_type": "code",
   "execution_count": 77,
   "id": "08ce44b2-3e00-44f7-8a7b-b959467a7838",
   "metadata": {
    "tags": []
   },
   "outputs": [],
   "source": [
    "from pint import UnitRegistry\n",
    "import numpy as np\n",
    "\n",
    "# Init units\n",
    "u = UnitRegistry()\n",
    "\n",
    "# positional params\n",
    "# -----------------\n",
    "distance = 10. * u.km\n",
    "\n",
    "# scene ref params\n",
    "# ----------------\n",
    "\n",
    "# blue: 450-485 nm\n",
    "# green: 500-565 nm\n",
    "# red: 625-750 nm\n",
    "# nir: 780-2500 nm\n",
    "ref_wavelength = 632 * u.nm\n"
   ]
  },
  {
   "cell_type": "markdown",
   "id": "624eb22e",
   "metadata": {},
   "source": [
    "Optical Parameters are given below."
   ]
  },
  {
   "cell_type": "code",
   "execution_count": 78,
   "id": "25cf13b8",
   "metadata": {},
   "outputs": [
    {
     "name": "stdout",
     "output_type": "stream",
     "text": [
      "F-number : 2.0\n",
      "Full FoV : 1.193 deg\n",
      "image_diam_on_focal_plane : 26.43 mm\n",
      "Spatial cut-off frequency : 791.1 lp/mm\n"
     ]
    }
   ],
   "source": [
    "# optical params (design)\n",
    "# -----------------------\n",
    "\n",
    "focal_length = 1270 * u.mm\n",
    "aperture_diam = (25 * u.inch).to(\"mm\")\n",
    "# image diameter on the focal plane (fixed by the design)\n",
    "# image_diam_on_focal_plane = 25 * u.mm \n",
    "image_diam_on_focal_plane = (np.sqrt(1920**2 + 1080**2) * 12 * u.um).to(\"mm\")\n",
    "# image_diam_on_focal_plane = (np.sqrt(1080**2 + 720**2)  * 12 * u.um).to(\"mm\")\n",
    "\n",
    "# optical params (computed)\n",
    "# -------------------------\n",
    "\n",
    "f_nr = focal_length / aperture_diam\n",
    "full_fov = 2 * np.arctan((image_diam_on_focal_plane/2.) / focal_length)\n",
    "aperture_area = np.pi * (aperture_diam/2.)**2\n",
    "# solid angle = 2pi h/r\n",
    "aperture_solid_angle = np.pi / (focal_length / (aperture_diam/2.))**2 * u.steradian\n",
    "\n",
    "u.define('lp = 1 * dimensionless = lp')\n",
    "spatial_cutoff_freq = (1. * u.lp/(ref_wavelength*f_nr).to(u.mm)) # perfect incoherent optics\n",
    "\n",
    "print(f\"F-number : {f_nr:~.4}\")\n",
    "print(f\"Full FoV : {full_fov.to(u.deg):~.4}\")\n",
    "print(f\"image_diam_on_focal_plane : {image_diam_on_focal_plane:~.4}\")\n",
    "\n",
    "print(f\"Spatial cut-off frequency : {spatial_cutoff_freq:~.4P}\")"
   ]
  },
  {
   "cell_type": "markdown",
   "id": "313b8ee5",
   "metadata": {},
   "source": [
    "Detector Parameters are given here"
   ]
  },
  {
   "cell_type": "code",
   "execution_count": 79,
   "id": "a88efaf9",
   "metadata": {},
   "outputs": [
    {
     "name": "stdout",
     "output_type": "stream",
     "text": [
      "Nyquist Frequency : 41.67 lp/mm\n",
      "Number of pixels (used) : 2.074 Mpixel\n",
      "IFoV : 0.5414 mdeg  (9.449 µrad)\n",
      "Pixel solid angle : 8.928×10⁻¹¹ sr\n",
      "Horizontal Full FoV : 1.039 deg (used pixels only)\n",
      "Vertical Full FoV   : 0.5847 deg (used pixels only)\n"
     ]
    }
   ],
   "source": [
    "# Detector Params (design)\n",
    "# ------------------------\n",
    "\n",
    "pix_pitch = 12 * u.um\n",
    "horiz_pixels: int = 1920 \n",
    "horiz_pixels_used: int = 1920\n",
    "vert_pixels: int = 1080\n",
    "vert_pixels_used: int = 1080\n",
    "\n",
    "binning: int = 1 # should be int\n",
    "\n",
    "# frame duration that cannot be used for inetgration or imaging (DUMMY VALUES)\n",
    "frame_overhead_time = 35 * u.us \n",
    "# time between frame durations that can be used for inetgration or imaging (DUMMY VALUES)\n",
    "overlap_time = 15 * u.us\n",
    "\n",
    "# frame rate\n",
    "frame_rate = 29.97 * u.Hz\n",
    "\n",
    "\n",
    "# Detector Params (computed)\n",
    "# --------------------------\n",
    "\n",
    "nyq_freq_native = 1 * u.lp/(2*pix_pitch).to(u.mm)\n",
    "nyq_freq = 1 * u.lp/(2*binning*pix_pitch).to(u.mm)\n",
    "\n",
    "if binning==1:  \n",
    "    print(f\"Nyquist Frequency : {nyq_freq_native:~.4P}\")\n",
    "else:\n",
    "    print(f\"Nyquist Frequency (native) : {nyq_freq_native:~.4P}\")\n",
    "    print(f\"Nyquist Frequency (binned) : {nyq_freq:~.4P}\")\n",
    "\n",
    "frame_pixel_count_used = horiz_pixels_used * vert_pixels_used * u.pixel\n",
    "print(f\"Number of pixels (used) : {frame_pixel_count_used.to(\"Mpixel\"):~.4}\")\n",
    "\n",
    "# Instantaneous Field of View (works in vertical and horizontal)\n",
    "ifov_native = 2*np.arctan( (pix_pitch / 2.) /focal_length)\n",
    "ifov = 2*np.arctan( (pix_pitch * binning / 2.) /focal_length)\n",
    "\n",
    "if binning==1:  \n",
    "    print(f\"IFoV : {ifov_native.to(u.mdeg):~.4P}  ({ifov_native.to(u.urad):~.4P})\")\n",
    "else:\n",
    "    print(f\"IFoV (native) : {ifov_native.to(u.mdeg):~.4P}  ({ifov_native.to(u.urad):~.4P})\")\n",
    "    print(f\"IFoV (binned) : {ifov.to(u.mdeg):~.4P}  ({ifov.to(u.urad):~.4P})\")\n",
    "\n",
    "# pixel physical area\n",
    "pix_area = pix_pitch**2\n",
    "\n",
    "# Pixel solid angle (of a pyramid)\n",
    "pix_solid_angle_native = 4 * np.arcsin( np.sin(ifov_native/2.0) * np.sin(ifov_native/2.0) ) \n",
    "pix_solid_angle_native = (pix_solid_angle_native * u.rad).to(u.steradian) # correct the unit from rad to sr\n",
    "\n",
    "pix_solid_angle = 4 * np.arcsin( np.sin(ifov/2.0) * np.sin(ifov/2.0) ) \n",
    "pix_solid_angle = (pix_solid_angle * u.rad).to(u.steradian) # correct the unit from rad to sr\n",
    "\n",
    "if binning==1: \n",
    "    print(f\"Pixel solid angle : {pix_solid_angle_native:~.4P}\")\n",
    "else:\n",
    "    print(f\"Pixel solid angle (native) : {pix_solid_angle_native:~.4P}\")\n",
    "    print(f\"Pixel solid angle (binned) : {pix_solid_angle:~.4P}\")\n",
    "\n",
    "# Full FoVs\n",
    "horiz_fov = 2*np.tan(ifov_native * horiz_pixels_used /2.)\n",
    "vertical_fov = 2*np.tan(ifov_native * vert_pixels_used /2.)\n",
    "\n",
    "print(f\"Horizontal Full FoV : {horiz_fov.to(u.deg):~.4P} (used pixels only)\")\n",
    "print(f\"Vertical Full FoV   : {vertical_fov.to(u.deg):~.4P} (used pixels only)\")\n"
   ]
  },
  {
   "cell_type": "markdown",
   "id": "2848b2dd",
   "metadata": {},
   "source": [
    "Geometric Output Parameters\n",
    "\n",
    "(Fwd Motion Compensation not implemented)"
   ]
  },
  {
   "cell_type": "code",
   "execution_count": 80,
   "id": "a667984b",
   "metadata": {},
   "outputs": [
    {
     "name": "stdout",
     "output_type": "stream",
     "text": [
      "Target Distance : 10.0 km\n",
      "Spatial Sample Distance : 9.449 cm  (@ target distance)\n",
      "Image Width  : 0.1814 km  (@ target distance)\n",
      "Image Height : 0.102 km  (@ target distance)\n"
     ]
    }
   ],
   "source": [
    "# Geometric Output Parameters (computed)\n",
    "# --------------------------------------\n",
    "\n",
    "print(f\"Target Distance : {distance.to(u.km):~.4P}\") \n",
    "\n",
    "# Ground sample distance at nadir\n",
    "spatial_sample_distance_native = (distance*(pix_pitch/focal_length)).to_reduced_units().to(u.m)\n",
    "spatial_sample_distance = (distance*(pix_pitch * binning/focal_length)).to_reduced_units().to(u.m)\n",
    "\n",
    "# image width at target distance flat plate and constant Instantaneous FoV\n",
    "image_width_at_dist = 2*np.tan(ifov_native * horiz_pixels_used /2.) * distance\n",
    "image_height_at_dist = 2*np.tan(ifov_native * vert_pixels_used /2.) * distance\n",
    "\n",
    "if binning==1: \n",
    "    print(f\"Spatial Sample Distance : {spatial_sample_distance_native.to(u.cm):~.4P}  (@ target distance)\")\n",
    "else:\n",
    "    print(f\"Spatial Sample Distance (native) : {spatial_sample_distance_native.to(u.cm):~.4P}  (@ target distance)\")\n",
    "    print(f\"Spatial Sample Distance (binned) : {spatial_sample_distance.to(u.cm):~.4P}  (@ target distance)\")\n",
    "\n",
    "print(f\"Image Width  : {image_width_at_dist.to(u.km):~.4P}  (@ target distance)\") \n",
    "print(f\"Image Height : {image_height_at_dist.to(u.km):~.4P}  (@ target distance)\") \n"
   ]
  },
  {
   "cell_type": "markdown",
   "id": "00befd4e",
   "metadata": {},
   "source": [
    "Timings\n",
    "\n",
    "Note the user defined value integration duration (though limited by the computed max integration duration). If the integration time is longer, more photons are captured but image smear increases."
   ]
  },
  {
   "cell_type": "code",
   "execution_count": 81,
   "id": "b9d93e87",
   "metadata": {},
   "outputs": [
    {
     "name": "stdout",
     "output_type": "stream",
     "text": [
      "Max integ duration : 33.35 ms\n",
      "Actual integ duration : 13.34 ms (40.0% of max)\n"
     ]
    }
   ],
   "source": [
    "# Timings\n",
    "# -------\n",
    "\n",
    "# native line max integration duration possible\n",
    "max_integ_duration = (1/frame_rate) - frame_overhead_time + overlap_time\n",
    "\n",
    "# acutal integration duration (<= max_integ_duration) set by the user, in this example as a percentage\n",
    "integ_duration = max_integ_duration * 0.4 \n",
    "\n",
    "print(f\"Max integ duration : {max_integ_duration.to(u.ms):~.4P}\")\n",
    "print(f\"Actual integ duration : {integ_duration.to(u.ms):~.4P} ({(integ_duration/max_integ_duration).m:.1%} of max)\")\n"
   ]
  },
  {
   "cell_type": "markdown",
   "id": "c4d7f4ed",
   "metadata": {},
   "source": [
    "Readout electronics"
   ]
  },
  {
   "cell_type": "code",
   "execution_count": 86,
   "id": "b45c7d59",
   "metadata": {},
   "outputs": [
    {
     "name": "stdout",
     "output_type": "stream",
     "text": [
      "Read rate : 62.146 Mpixel/s\n",
      "Read datarate : 745.7 Mbit/s  (93.22 MB/s)\n",
      "Write datarate : 760.7 Mbit/s  (95.08 MB/s)  (after overheads)\n"
     ]
    }
   ],
   "source": [
    "# Read-out Electronics Params (design)\n",
    "# ------------------------------------\n",
    "\n",
    "pixel_encoding = 12 * u.bpp\n",
    "\n",
    "# print(f\"Pixel Encoding : {pixel_encoding}\")\n",
    "\n",
    "# data overhead during readout and write\n",
    "data_write_overhead = 2./100.\n",
    "\n",
    "# compression\n",
    "compression_on = False \n",
    "compression_ratio = 2.4\n",
    "\n",
    "\n",
    "# Read-out Electronics Params (computed)\n",
    "# --------------------------------------\n",
    "\n",
    "print(f\"Read rate {'' if binning==1 else '(native)'}: {(horiz_pixels * vert_pixels * u.pixel * frame_rate).to('Mpixel/s'):~.5P}\")\n",
    "\n",
    "pixel_read_datarate_native= horiz_pixels * vert_pixels * u.pixel * pixel_encoding * frame_rate\n",
    "pixel_read_datarate = (horiz_pixels / binning) * (vert_pixels / binning) * u.pixel * pixel_encoding * frame_rate # with binning\n",
    "\n",
    "if binning==1: \n",
    "    print(f\"Read datarate : {pixel_read_datarate_native.to('Mbit/s'):~.4P}  ({pixel_read_datarate_native.to('Mbyte/s'):~.4P})\")\n",
    "else:\n",
    "    print(f\"Read datarate (native) : {pixel_read_datarate_native.to('Mbit/s'):~.4P}  ({pixel_read_datarate_native.to('Mbyte/s'):~.4P})\")\n",
    "    print(f\"Read datarate (binned) : {pixel_read_datarate.to('Mbit/s'):~.4P}  ({pixel_read_datarate.to('Mbyte/s'):~.4P})\")\n",
    "\n",
    "# init write datarate (with data compression if applicable)\n",
    "if compression_on:\n",
    "    pixel_write_datarate_native = pixel_read_datarate_native / compression_ratio\n",
    "    pixel_write_datarate = pixel_read_datarate / compression_ratio\n",
    "else:\n",
    "    pixel_write_datarate_native = pixel_read_datarate_native\n",
    "    pixel_write_datarate = pixel_read_datarate \n",
    "\n",
    "pixel_write_datarate_native = pixel_write_datarate_native * (1+data_write_overhead)\n",
    "pixel_write_datarate = pixel_write_datarate * (1.+data_write_overhead)\n",
    "\n",
    "if binning==1: \n",
    "    print(f\"Write datarate : {pixel_write_datarate_native.to('Mbit/s'):~.4P}  ({pixel_write_datarate_native.to('Mbyte/s'):~.4P})  (after overheads{' and compression' if compression_on else ''})\")\n",
    "else:\n",
    "    print(f\"Write datarate (native) : {pixel_write_datarate_native.to('Mbit/s'):~.4P}  ({pixel_write_datarate_native.to('Mbyte/s'):~.4P})  (after overheads{' and compression' if compression_on else ''}\")\n",
    "    print(f\"Write datarate (binned) : {pixel_write_datarate.to('Mbit/s'):~.4P}  ({pixel_write_datarate.to('Mbyte/s'):~.4P})  (after overheads{' and compression' if compression_on else ''}\")\n"
   ]
  }
 ],
 "metadata": {
  "kernelspec": {
   "display_name": "Python 3 (ipykernel)",
   "language": "python",
   "name": "python3"
  },
  "language_info": {
   "codemirror_mode": {
    "name": "ipython",
    "version": 3
   },
   "file_extension": ".py",
   "mimetype": "text/x-python",
   "name": "python",
   "nbconvert_exporter": "python",
   "pygments_lexer": "ipython3",
   "version": "3.12.1"
  }
 },
 "nbformat": 4,
 "nbformat_minor": 5
}
