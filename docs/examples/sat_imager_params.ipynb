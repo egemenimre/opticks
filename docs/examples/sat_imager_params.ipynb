{
 "cells": [
  {
   "cell_type": "markdown",
   "metadata": {},
   "source": [
    "# Basic Pushbroom Imager on a Satellite (Pléiades example)\n",
    "\n",
    "Computing the basic parameters of the satellite pushbroom imager on the French high-res satellite Pléiades.\n",
    "\n",
    "Sources for the Pléiades data:\n",
    "\n",
    "- [ESA Pléiades page](https://earth.esa.int/eogateway/missions/pleiades#instruments-section)\n",
    "- [eoPortal Pléiades page](https://www.eoportal.org/satellite-missions/pleiades#hiri-high-resolution-imager)"
   ]
  },
  {
   "cell_type": "markdown",
   "metadata": {},
   "source": [
    "## Loading the Imager Parameters\n",
    "\n",
    "An imager is made up of three parts: Optics, Detector and (optionally) Read-out/Write Electronics. We load the configuration files for each part and initialise the `Imager` object."
   ]
  },
  {
   "cell_type": "code",
   "execution_count": 22,
   "metadata": {},
   "outputs": [
    {
     "name": "stdout",
     "output_type": "stream",
     "text": [
      "current working directory: /home/egemen/Projects/opticks\n",
      "optics file:  [docs/examples/sample_sat_pushbroom/optics.yaml] (file exists:  True)\n",
      "detector file exists:  [docs/examples/sample_sat_pushbroom/pan_detector.yaml] (file exists:  True)\n",
      "RW electronics file exists:  [docs/examples/sample_sat_pushbroom/rw_electronics.yaml] (file exists:  True)\n"
     ]
    }
   ],
   "source": [
    "from pathlib import Path\n",
    "\n",
    "from opticks.imager_model.detector import Channel\n",
    "from opticks.imager_model.imager import Imager\n",
    "\n",
    "print(f\"current working directory: {Path.cwd()}\")\n",
    "\n",
    "file_directory = Path(\"docs\", \"examples\", \"sample_sat_pushbroom\")\n",
    "optics_file_path = file_directory.joinpath(\"optics.yaml\")\n",
    "detector_file_path = file_directory.joinpath(\"pan_detector.yaml\")\n",
    "rw_electronics_file_path = file_directory.joinpath(\"rw_electronics.yaml\")\n",
    "\n",
    "# check whether input files exist\n",
    "print(\n",
    "    f\"optics file:  [{optics_file_path}] (file exists:  {optics_file_path.is_file()})\"\n",
    ")\n",
    "print(\n",
    "    f\"detector file exists:  [{detector_file_path}] (file exists:  {detector_file_path.is_file()})\"\n",
    ")\n",
    "print(\n",
    "    f\"RW electronics file exists:  [{rw_electronics_file_path}] (file exists:  {rw_electronics_file_path.is_file()})\"\n",
    ")\n",
    "\n",
    "# Init imager object\n",
    "imager = Imager.from_yaml_file(\n",
    "    optics_file_path, detector_file_path, rw_electronics_file_path\n",
    ")\n",
    "\n",
    "# shorthands\n",
    "optics = imager.optics\n",
    "detector = imager.detector\n",
    "rw_electronics = imager.rw_electronics\n",
    "\n",
    "# select the PAN channel\n",
    "band_id = \"pan\"\n",
    "channel: Channel = detector.params.channels.all[band_id]\n",
    "\n",
    "# binning status\n",
    "binning_on = False if channel.binning == 1 else True"
   ]
  },
  {
   "cell_type": "markdown",
   "metadata": {},
   "source": [
    "## Setting the Scene\n",
    "\n",
    "Reference parameters for the camera position and motion with respect to the target are given below:"
   ]
  },
  {
   "cell_type": "code",
   "execution_count": 23,
   "metadata": {},
   "outputs": [
    {
     "name": "stdout",
     "output_type": "stream",
     "text": [
      "target distance : 694.0 km \n",
      "ground velocity : 6770.75 m/s\n"
     ]
    }
   ],
   "source": [
    "import numpy as np\n",
    "\n",
    "from opticks import u\n",
    "\n",
    "# constants\n",
    "# ---------\n",
    "r_earth = 6378.137 * u.km\n",
    "mu = 398600.5 * u.km**3 / u.s**2\n",
    "\n",
    "# sat positional params\n",
    "# ---------------------\n",
    "sat_altitude = 694.0 * u.km\n",
    "\n",
    "n = np.sqrt(mu / (r_earth + sat_altitude) ** 3)\n",
    "ground_vel = (n * r_earth).to(\"m/s\")\n",
    "\n",
    "# converted to generic params\n",
    "distance = sat_altitude\n",
    "target_rel_velocity = ground_vel\n",
    "\n",
    "print(f\"target distance : {distance:~P} \")\n",
    "print(f\"ground velocity : {target_rel_velocity:~P.6}\")"
   ]
  },
  {
   "cell_type": "markdown",
   "metadata": {},
   "source": [
    "Certain parameters vary with the light characteristics and therefore wavelength dependent. Pléiades PAN works in the range 480 to 820 nm. We will use the centre frequency as the reference wavelength.\n",
    "\n",
    "Note the widely used bands:\n",
    "\n",
    "- blue: 450-485 nm\n",
    "- green: 500-565 nm\n",
    "- red: 625-750 nm\n",
    "- nir: 750-1400 nm"
   ]
  },
  {
   "cell_type": "code",
   "execution_count": 24,
   "metadata": {},
   "outputs": [
    {
     "name": "stdout",
     "output_type": "stream",
     "text": [
      "reference wavelength : 650.0 nm\n"
     ]
    }
   ],
   "source": [
    "ref_wavelength = channel.centre_freq\n",
    "\n",
    "print(f\"reference wavelength : {ref_wavelength:~}\")"
   ]
  },
  {
   "cell_type": "markdown",
   "metadata": {},
   "source": [
    "## Extracting the Imager Parameters\n",
    "\n",
    "### Optical Parameters\n",
    "\n",
    "Basic and derived optical parameters are given below for the optics:\n"
   ]
  },
  {
   "cell_type": "code",
   "execution_count": 25,
   "metadata": {},
   "outputs": [
    {
     "name": "stdout",
     "output_type": "stream",
     "text": [
      "Basic Optical Params:\n",
      "optics id: Pléiades TMA Optics\n",
      "focal length : 12905 mm\n",
      "aperture diameter : 650 mm\n",
      "image diameter on focal plane : 400 mm\n",
      "\n",
      "Derived Optical Params:\n",
      "f-number : 19.85\n",
      "full optical fov : 1.776 deg\n",
      "aperture area : 3318.31 cm²\n",
      "spatial cut-off freq  : 77.489 cy/mm (at 650.0 nm)\n"
     ]
    }
   ],
   "source": [
    "print(\"Basic Optical Params:\")\n",
    "\n",
    "print(f\"optics id: {optics.params.name}\")\n",
    "print(f\"focal length : {optics.params.focal_length:~}\")\n",
    "print(f\"aperture diameter : {optics.params.aperture_diameter:~}\")\n",
    "print(f\"image diameter on focal plane : {optics.params.image_diam_on_focal_plane:~}\")\n",
    "\n",
    "print()\n",
    "print(\"Derived Optical Params:\")\n",
    "\n",
    "print(f\"f-number : {optics.f_number:.4}\")\n",
    "print(f\"full optical fov : {optics.full_optical_fov:~P.4}\")\n",
    "print(f\"aperture area : {optics.aperture_area.to(\"cm**2\"):~P.6}\")\n",
    "print(f\"spatial cut-off freq  : {optics.spatial_cutoff_freq(ref_wavelength):~P.5} (at {ref_wavelength:~P})\")"
   ]
  },
  {
   "cell_type": "markdown",
   "metadata": {},
   "source": [
    "### Detector Parameters\n",
    "\n",
    "Basic and derived detector parameters are given below for the optics:"
   ]
  },
  {
   "cell_type": "code",
   "execution_count": 26,
   "metadata": {},
   "outputs": [
    {
     "name": "stdout",
     "output_type": "stream",
     "text": [
      "Basic Detector Params:\n",
      "detector id: Pléiades PAN Detector\n",
      "detector type : pushbroom\n",
      "horizontal x vertical pixels (detector) : 30000 x 20\n",
      "horizontal x vertical pixels (channel) : 30000 x 20\n",
      "binning : None\n",
      "pixel pitch : 13 µm \n",
      "TDI stages : 13\n",
      "\n",
      "Derived Detector Params:\n",
      "Nyquist freq : 38.46 cy/mm \n",
      "number of pixels (full frame) : 0.6 Mpixel\n",
      "number of pixels (full frame, channel) : 0.6 Mpixel \n"
     ]
    }
   ],
   "source": [
    "print(\"Basic Detector Params:\")\n",
    "\n",
    "print(f\"detector id: {detector.params.name}\")\n",
    "print(f\"detector type : {detector.params.detector_type}\")\n",
    "print(f\"horizontal x vertical pixels (detector) : {detector.params.horizontal_pixels} x {detector.params.vertical_pixels}\")\n",
    "print(f\"horizontal x vertical pixels (channel) : {channel.horizontal_pixels} x {channel.vertical_pixels}\")\n",
    "print(f\"binning : {channel.binning if binning_on else 'None'}\")\n",
    "print(f\"pixel pitch : {channel.pixel_pitch(False):~P} {f\"({channel.pixel_pitch(True):~P} binned)\" if binning_on else ''}\")\n",
    "print(f\"TDI stages : {'None' if channel.tdi_stages == 1 else channel.tdi_stages}\")\n",
    "\n",
    "print()\n",
    "print(\"Derived Detector Params:\")\n",
    "\n",
    "print(f\"Nyquist freq : {channel.nyquist_freq(False):~P.4} {f\"({channel.nyquist_freq(True):~P.4} binned)\" if binning_on else ''}\")\n",
    "print(f\"number of pixels (full frame) : {detector.pixel_count:~P.4}\")\n",
    "print(f\"number of pixels (full frame, channel) : {channel.pixel_count_frame(False):~P.4} {f\"({channel.pixel_count_frame(True):~P.4} binned)\" if binning_on else ''}\")"
   ]
  },
  {
   "cell_type": "markdown",
   "metadata": {},
   "source": [
    "### Imager Geometry Parameters\n",
    "\n",
    "The derived parameters are given below for the imager:"
   ]
  },
  {
   "cell_type": "code",
   "execution_count": 27,
   "metadata": {},
   "outputs": [
    {
     "name": "stdout",
     "output_type": "stream",
     "text": [
      "ifov : 0.05771 mdeg \n",
      "pixel solid angle : 1.015×10⁻¹² sr \n",
      "horizontal full fov: 1.731 deg\n",
      "vertical full fov: 0.001154 deg\n"
     ]
    }
   ],
   "source": [
    "print(f\"ifov : {imager.ifov(band_id, False):~P.4} {f\"({imager.ifov(band_id, True):~P.4} binned)\" if binning_on else ''}\")\n",
    "print(f\"pixel solid angle : {imager.pix_solid_angle(band_id, False):~P.4} {f\"({imager.pix_solid_angle(band_id, True):~P.4} binned)\" if binning_on else ''}\")\n",
    "print(f\"horizontal full fov: {imager.horizontal_fov(band_id):~P.4}\")\n",
    "print(f\"vertical full fov: {imager.vertical_fov(band_id):~P.4}\")"
   ]
  },
  {
   "cell_type": "markdown",
   "metadata": {},
   "source": [
    "### Geometric Projection Parameters"
   ]
  },
  {
   "cell_type": "code",
   "execution_count": 28,
   "metadata": {},
   "outputs": [
    {
     "name": "stdout",
     "output_type": "stream",
     "text": [
      "image swath : 20.97 km (disregarding Earth curvature)\n",
      "ssd at nadir (unbinned): 0.6991 m , 0.6991 m (horizontal, vertical at target distance)\n"
     ]
    }
   ],
   "source": [
    "# swath assuming flat plate and constant Instantaneous FoV\n",
    "swath = imager.projected_horiz_img_extent(distance, band_id)\n",
    " \n",
    "print(f\"image swath : {swath:~.4P} (disregarding Earth curvature)\")\n",
    "\n",
    "# Ground sample distance at Nadir\n",
    "if binning_on:\n",
    "    ssd_nadir_binned = imager.spatial_sample_distance(distance, band_id, True, \"centre\")\n",
    "    print(f\"ssd at nadir (binned): {ssd_nadir_binned.horiz:~.4P} , {ssd_nadir_binned.vert:~.4P} (horizontal, vertical at target distance)\")\n",
    "\n",
    "ssd_nadir = imager.spatial_sample_distance(distance, band_id, False, \"centre\")\n",
    "print(f\"ssd at nadir (unbinned): {ssd_nadir.horiz:~.4P} , {ssd_nadir.vert:~.4P} (horizontal, vertical at target distance)\")"
   ]
  },
  {
   "cell_type": "markdown",
   "metadata": {},
   "source": [
    "### Timings"
   ]
  },
  {
   "cell_type": "code",
   "execution_count": 29,
   "metadata": {},
   "outputs": [
    {
     "name": "stdout",
     "output_type": "stream",
     "text": [
      "line duration : 0.1019 ms (9811.6 Hz) (with binning where applicable)\n",
      "max integration duration : 0.1019 ms (no binning)\n",
      "actual integration duration : 0.03 ms (no binning)\n",
      "total TDI column duration : 1.325 ms (13x stages) (with binning where applicable)\n"
     ]
    }
   ],
   "source": [
    "timings = detector.params.timings\n",
    "\n",
    "\n",
    "print(f\"line duration : {channel.frame_duration:~P.4} ({channel.frame_rate:~P.6}) (with binning where applicable)\")\n",
    "print(f\"max integration duration : {timings.max_integration_duration:~P.4} (no binning)\")\n",
    "print(f\"actual integration duration : {timings.integration_duration:~P.4} (no binning)\")\n",
    "print(f\"total TDI column duration : {channel.total_tdi_col_duration:~P.4} ({channel.tdi_stages}x stages) (with binning where applicable)\")"
   ]
  },
  {
   "cell_type": "markdown",
   "metadata": {},
   "source": [
    "### Read-out/Write Electronics"
   ]
  },
  {
   "cell_type": "code",
   "execution_count": 30,
   "metadata": {},
   "outputs": [
    {
     "name": "stdout",
     "output_type": "stream",
     "text": [
      "pixel read rate (without TDI) : 294.348 Mpixel/s  (PAN channel)\n",
      "pixel read rate (with TDI) : 3826.52 Mpixel/s  (PAN channel)\n",
      "data write rate (uncompressed, incl. overheads) : 3638.14 Mbit/s  (PAN channel)\n",
      "data write rate (compressed, incl. overheads) : 909.535 Mbit/s  (PAN channel)\n"
     ]
    }
   ],
   "source": [
    "print(\n",
    "    f\"pixel read rate (without TDI) : {detector.pix_read_rate(band_id, False, False):~P.6} {f'({detector.pix_read_rate(band_id, True, False):~P.6} binned)' if binning_on else ''} ({channel.name} channel)\"\n",
    ")\n",
    "print(\n",
    "    f\"pixel read rate (with TDI) : {detector.pix_read_rate(band_id, False, True):~P.6} {f'({detector.pix_read_rate(band_id, True, True):~P.6} binned)' if binning_on else ''} ({channel.name} channel)\"\n",
    ")\n",
    "\n",
    "print(\n",
    "    f\"data write rate (uncompressed, incl. overheads) : {imager.data_write_rate(band_id, False, False):~P.6} {f'({imager.data_write_rate(band_id, True, False):~P.6} binned)' if binning_on else ''} ({channel.name} channel)\"\n",
    ")\n",
    "print(\n",
    "    f\"data write rate (compressed, incl. overheads) : {imager.data_write_rate(band_id, False, True):~P.6} {f'({imager.data_write_rate(band_id, True, True):~P.6} binned)' if binning_on else ''} ({channel.name} channel)\"\n",
    ")"
   ]
  },
  {
   "cell_type": "markdown",
   "metadata": {},
   "source": [
    "## References\n",
    "\n",
    "1. [Design of the high resolution optical instrument for the Pleiades HR Earth observation satellites](https://www.semanticscholar.org/paper/Design-of-the-high-resolution-optical-instrument-HR-Lamard-Gaudin-Delrieu/d8cdc4643577da00edc210a49eeb66fa48a71374)"
   ]
  }
 ],
 "metadata": {
  "kernelspec": {
   "display_name": "opticks",
   "language": "python",
   "name": "python3"
  },
  "language_info": {
   "codemirror_mode": {
    "name": "ipython",
    "version": 3
   },
   "file_extension": ".py",
   "mimetype": "text/x-python",
   "name": "python",
   "nbconvert_exporter": "python",
   "pygments_lexer": "ipython3",
   "version": "3.12.4"
  }
 },
 "nbformat": 4,
 "nbformat_minor": 2
}
