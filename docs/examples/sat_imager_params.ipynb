{
 "cells": [
  {
   "attachments": {},
   "cell_type": "markdown",
   "id": "1e94fadb-3dd8-470c-9277-9e68b09724ca",
   "metadata": {},
   "source": [
    "# The First Day of the Satellite\n",
    "\n",
    "The first day of a satellite in orbit requires a lot of planning (even though the plans go out of the window rather quickly in many cases). The critical inputs to this planning are:\n",
    "- When will we be able to talk to the satellite (groundstation contact times)\n",
    "- Where should I point my groundstation antenna (groundstation antenna azimuth-elevation angles)\n",
    "- When will the satellite see the sun and generate power (satellite illumination times)\n",
    "\n",
    "This how-to guide shows how these bits of crucial information can be generated with satkit. The steps are:\n",
    "1. Set up the orbit\n",
    "2. Set up the groundstation\n",
    "3. Set up the search interval and the propagator\n",
    "4. Run the analyses\n",
    "\n",
    "However, as always, the very first thing to do is to initialise satkit and Orekit."
   ]
  },
  {
   "cell_type": "code",
   "execution_count": 2,
   "id": "08ce44b2-3e00-44f7-8a7b-b959467a7838",
   "metadata": {
    "tags": []
   },
   "outputs": [
    {
     "data": {
      "text/plain": [
       "WindowsPath('C:/Users/EgemenImre/PycharmProjects/satkit/data/orekit-data/orekit-data-reference.zip')"
      ]
     },
     "execution_count": 2,
     "metadata": {},
     "output_type": "execute_result"
    }
   ],
   "source": [
    "from pathlib import Path\n",
    "\n",
    "# If satkit import fails, try to locate the module\n",
    "import os\n",
    "\n",
    "try:\n",
    "    import satkit\n",
    "except ModuleNotFoundError:\n",
    "    os.chdir(os.path.join(\"..\", \"..\"))\n",
    "    os.getcwd()\n",
    "\n",
    "from satkit import init_satkit, u\n",
    "\n",
    "init_satkit(Path(\"data\", \"orekit-data\", \"orekit-data-reference.zip\"), Path(\"..\", \"..\"))\n",
    "\n",
    "# Orekit / satkit init complete"
   ]
  },
  {
   "cell_type": "markdown",
   "id": "5eab56f8",
   "metadata": {},
   "source": [
    "Then the groundstation location is initialised. The `QuantityInit` class provides the `geodetic_location` method to initialise the groundstation location safely with units."
   ]
  },
  {
   "cell_type": "code",
   "execution_count": 3,
   "id": "daf8e01f",
   "metadata": {},
   "outputs": [],
   "source": [
    "from satkit.utils.quantity_init import QuantityInit\n",
    "\n",
    "# Set the groundstation location (geodetic coordinates)\n",
    "longitude = 45.0 * u.deg\n",
    "latitude = 40 * u.deg\n",
    "altitude = 0 * u.m\n",
    "gnd_station = QuantityInit.geodetic_location(latitude, longitude, altitude)"
   ]
  },
  {
   "attachments": {},
   "cell_type": "markdown",
   "id": "c0cb764e-0101-4421-a3eb-98c2706eeada",
   "metadata": {},
   "source": [
    "The next step is to set up the search interval. The search start start and search duration parameters are defined by the target analysis duration and are to be set by the user.\n",
    "\n",
    "It should be noted that, if the initial coordinates are defined in cartesian (for example when the separation coordinates from the launcher are known), a different propagator with a more detailed force model can be used. This is set with the "
   ]
  },
  {
   "cell_type": "code",
   "execution_count": 4,
   "id": "2eec7da6",
   "metadata": {},
   "outputs": [],
   "source": [
    "from org.orekit.frames import FramesFactory\n",
    "from org.orekit.time import TimeScalesFactory\n",
    "\n",
    "from satkit.time.time import AbsoluteDateExt\n",
    "from satkit.time.timeinterval import TimeInterval\n",
    "\n",
    "# Shorthand for UTC\n",
    "utc = TimeScalesFactory.getUTC()\n",
    "\n",
    "# Set user-defined search interval\n",
    "search_start = AbsoluteDateExt(\"2020-06-10T00:00:00.000\", utc)\n",
    "duration = 1 * u.day\n",
    "search_interval = TimeInterval.from_duration(search_start, duration)\n"
   ]
  },
  {
   "attachments": {},
   "cell_type": "markdown",
   "id": "a64b75b6",
   "metadata": {},
   "source": [
    "Finally the orbit and propagator are set up. Usually, the orbit is given in [Spacetrack](https://www.space-track.org/) or [Celestrak](https://celestrak.org/) websites, even though for small satellites launched in large batches, they can't easily identify which satellite is which, at least at the very beginning. Nevertheless, UHF comms is very forgiving and in many cases even an approximate TLE would work. For this example, we assume that a reasonably good TLE is known.\n",
    "\n",
    "The other alternative is to start with the cartesian coordinates (for example, separation coordinates provided by the launcher)\n",
    "\n",
    "`using_tle`\n",
    "\n",
    "_show cartesian input and propagator, separation coordinates provided by the launcher_"
   ]
  },
  {
   "cell_type": "code",
   "execution_count": 7,
   "id": "78f2492b-bb24-476c-8b09-af196acbf46a",
   "metadata": {},
   "outputs": [
    {
     "name": "stdout",
     "output_type": "stream",
     "text": [
      "398600441800000.0\n"
     ]
    }
   ],
   "source": [
    "from org.orekit.propagation.analytical.tle import TLE, TLEPropagator\n",
    "\n",
    "from org.orekit.propagation.numerical import NumericalPropagator\n",
    "from org.hipparchus.ode.nonstiff import DormandPrince853Integrator\n",
    "from org.orekit.forces.gravity.potential import GravityFieldFactory\n",
    "from org.orekit.forces.gravity import HolmesFeatherstoneAttractionModel\n",
    "from org.orekit.propagation import SpacecraftState\n",
    "from org.orekit.orbits import CartesianOrbit, OrbitType\n",
    "from org.hipparchus.geometry.euclidean.threed import Vector3D\n",
    "from orekit import JArray_double\n",
    "\n",
    "from org.orekit.utils import IERSConventions, TimeStampedPVCoordinates, Constants\n",
    "from org.orekit.frames import FramesFactory\n",
    "\n",
    "# True if a TLE is used for the orbit, False if a cartesian initial condition is used \n",
    "using_tle = True\n",
    "\n",
    "if using_tle:\n",
    "    # Insert your TLE here\n",
    "    line1 = \"1 40697U 15028A   20164.50828565  .00000010  00000-0  20594-4 0  9999\"\n",
    "    line2 = \"2 40697  98.5692 238.8182 0001206  86.9662 273.1664 14.30818200259759\"\n",
    "\n",
    "    # Init TLE object\n",
    "    tle = TLE(line1, line2)\n",
    "    \n",
    "    # Set up the SGP4 propagator\n",
    "    propagator = TLEPropagator.selectExtrapolator(tle)\n",
    "    \n",
    "else:\n",
    "    # TODO check this\n",
    "    \n",
    "     # Init useful frames\n",
    "    itrf = FramesFactory.getITRF(IERSConventions.IERS_2010, True)\n",
    "    gcrf = FramesFactory.getGCRF()\n",
    "    teme = FramesFactory.getTEME()\n",
    "    \n",
    "    # Initial state with cartesian coordinates\n",
    "    initialDate = AbsoluteDateExt(\"2020-06-12T12:11:55.88016Z\", utc)\n",
    "    position = Vector3D(-3740326.276351476, -6117114.980631275, 7333.322457122324)\n",
    "    velocity = Vector3D(-928.5273226857054, 586.6711336453583, 7376.427434257024)\n",
    "    pos_vel_time = TimeStampedPVCoordinates(initialDate, position, velocity)\n",
    "    initial_orbit = CartesianOrbit(pos_vel_time, gcrf, Constants.WGS84_EARTH_MU)\n",
    "    \n",
    "    satellite_mass = 100.0  # spacecraft mass, unit kg.\n",
    "    initialState = SpacecraftState(initial_orbit, satellite_mass) \n",
    "\n",
    "    # Set up the numerical propagator\n",
    "    minStep = 0.001\n",
    "    maxstep = 1000.0\n",
    "    initStep = 60.0\n",
    "    \n",
    "    # spatial tolerance (meters)\n",
    "    positionTolerance = 1.0 \n",
    "    \n",
    "    tolerances = NumericalPropagator.tolerances(positionTolerance, \n",
    "                                            initial_orbit, \n",
    "                                            initial_orbit.getType())\n",
    "\n",
    "    integrator = DormandPrince853Integrator(minStep, maxstep, \n",
    "    JArray_double.cast_(tolerances[0]),  # Double array of doubles needs to be casted in Python\n",
    "    JArray_double.cast_(tolerances[1]))\n",
    "    integrator.setInitialStepSize(initStep)\n",
    "\n",
    "    propagator = NumericalPropagator(integrator)\n",
    "    propagator.setOrbitType(OrbitType.CARTESIAN)\n",
    "    propagator.setInitialState(initialState)\n",
    "\n",
    "    gravityProvider = GravityFieldFactory.getNormalizedProvider(10, 10)\n",
    "    propagator.addForceModel(HolmesFeatherstoneAttractionModel(FramesFactory.getITRF(IERSConventions.IERS_2010, True), gravityProvider))\n",
    "\n",
    "    end_state = propagator.propagate(search_interval.start, search_interval.end)\n",
    "    \n",
    "    print(end_state)\n",
    "    "
   ]
  },
  {
   "attachments": {},
   "cell_type": "markdown",
   "id": "ad52a9e7",
   "metadata": {},
   "source": [
    "After all the preparations, the analyses can finally be run. The first analysis is to generate the \"satellite illumination events\", showing when the satellite sees the sunlight, which is critical for thermal analyses and power generation.\n",
    "\n",
    "This is also useful to relate the received telemetry to the physical events. For example, the telemetry should show the activation of some of the solar arrays around illumination start time - the absence of any activity may therefore indicate an attitude determination or control failure, erroneous orbit definition or a solar array failure."
   ]
  },
  {
   "cell_type": "code",
   "execution_count": 11,
   "id": "fc7328f4",
   "metadata": {},
   "outputs": [
    {
     "name": "stdout",
     "output_type": "stream",
     "text": [
      "Satellite Illumination Intervals:\n",
      "----------------------------------------------------------------------------\n",
      "[ 2020-06-10T00:00:00.000Z  2020-06-10T01:02:46.53575911303543Z ]\n",
      "[ 2020-06-10T01:36:53.78964055695255Z  2020-06-10T02:43:28.39400976578168Z ]\n",
      "[ 2020-06-10T03:17:35.64025448331481Z  2020-06-10T04:24:10.25279842864484Z ]\n",
      "[ 2020-06-10T04:58:17.49131853725282Z  2020-06-10T06:04:52.11212533419479Z ]\n",
      "[ 2020-06-10T06:38:59.3428337338965Z  2020-06-10T07:45:33.97199032249657Z ]\n",
      "[ 2020-06-10T08:19:41.1948013995225Z  2020-06-10T09:26:15.83239292163873Z ]\n",
      "[ 2020-06-10T10:00:23.04722296823704Z  2020-06-10T11:06:57.69333248314624Z ]\n",
      "[ 2020-06-10T11:41:04.90009977224193Z  2020-06-10T12:47:39.55480833853304Z ]\n",
      "[ 2020-06-10T13:21:46.75343283812836Z  2020-06-10T14:28:21.41681997751485Z ]\n",
      "[ 2020-06-10T15:02:28.60722275719823Z  2020-06-10T16:09:03.27936718069881Z ]\n",
      "[ 2020-06-10T16:43:10.46146961963413Z  2020-06-10T17:49:45.14245011115915Z ]\n",
      "[ 2020-06-10T18:23:52.31617305832791Z  2020-06-10T19:30:27.00606931894751Z ]\n",
      "[ 2020-06-10T20:04:34.1713323821356Z  2020-06-10T21:11:08.87022567928469Z ]\n",
      "[ 2020-06-10T21:45:16.0269467488487Z  2020-06-10T22:51:50.73492027787117Z ]\n",
      "[ 2020-06-10T23:25:57.88301539159707Z  2020-06-11T00:00:00.000Z ]\n",
      "\n"
     ]
    }
   ],
   "source": [
    "from satkit.eventfinders.eventfinders import sat_illum_finder\n",
    "\n",
    "\n",
    "# ----- find sat illumination times -----\n",
    "illum_times = sat_illum_finder(search_interval, propagator, use_total_eclipse=True)\n",
    "\n",
    "print(\"Satellite Illumination Intervals:\")\n",
    "print(\"----------------------------------------------------------------------------\")\n",
    "print(illum_times)\n"
   ]
  },
  {
   "cell_type": "markdown",
   "id": "12af66c8",
   "metadata": {},
   "source": []
  },
  {
   "cell_type": "code",
   "execution_count": 12,
   "id": "92e9e1c9",
   "metadata": {},
   "outputs": [
    {
     "name": "stdout",
     "output_type": "stream",
     "text": [
      "Groundstation Contact Intervals (above 5 deg elevation):\n",
      "----------------------------------------------------------------------------\n",
      "[ 2020-06-10T07:03:15.36455811220952Z  2020-06-10T07:14:44.37948488083933Z ]\n",
      "[ 2020-06-10T08:42:41.71425483294207Z  2020-06-10T08:54:06.80962669148074Z ]\n",
      "[ 2020-06-10T18:20:19.30156820664889Z  2020-06-10T18:32:16.44348785874871Z ]\n",
      "[ 2020-06-10T20:00:34.29551820712763Z  2020-06-10T20:11:14.73155280207742Z ]\n",
      "\n"
     ]
    }
   ],
   "source": [
    "from satkit.eventfinders.eventfinders import gnd_pass_finder\n",
    "\n",
    "# ----- find passes ----- \n",
    "\n",
    "# elevation definition\n",
    "elevation = 5 * u.deg\n",
    "    \n",
    "passes = gnd_pass_finder(\n",
    "    search_interval,\n",
    "    gnd_station,\n",
    "    elevation,\n",
    "    propagator=propagator,\n",
    ")\n",
    "\n",
    "print(f\"Groundstation Contact Intervals (above {elevation:~P} elevation):\")\n",
    "print(\"----------------------------------------------------------------------------\")\n",
    "print(passes)"
   ]
  },
  {
   "attachments": {},
   "cell_type": "markdown",
   "id": "a8616109",
   "metadata": {},
   "source": [
    "Add az-el for all passes."
   ]
  }
 ],
 "metadata": {
  "kernelspec": {
   "display_name": "Python 3 (ipykernel)",
   "language": "python",
   "name": "python3"
  },
  "language_info": {
   "codemirror_mode": {
    "name": "ipython",
    "version": 3
   },
   "file_extension": ".py",
   "mimetype": "text/x-python",
   "name": "python",
   "nbconvert_exporter": "python",
   "pygments_lexer": "ipython3",
   "version": "3.11.0"
  }
 },
 "nbformat": 4,
 "nbformat_minor": 5
}
