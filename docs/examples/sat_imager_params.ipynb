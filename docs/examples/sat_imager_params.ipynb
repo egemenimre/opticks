{
 "cells": [
  {
   "attachments": {},
   "cell_type": "markdown",
   "id": "1e94fadb-3dd8-470c-9277-9e68b09724ca",
   "metadata": {},
   "source": [
    "# Basic Pushbroom Imager on a Satellite\n",
    "\n",
    "Computing the basic parameters of a satellite pushbroom imager.\n",
    "\n",
    "Reference parameters for the scene and camera position with respect to the target are given below."
   ]
  },
  {
   "cell_type": "code",
   "execution_count": 21,
   "id": "08ce44b2-3e00-44f7-8a7b-b959467a7838",
   "metadata": {
    "tags": []
   },
   "outputs": [
    {
     "name": "stdout",
     "output_type": "stream",
     "text": [
      "F-number: 6.105\n",
      "Full FoV: 2.963 deg\n",
      "Optical cut-off frequency: 259.2 / mm\n"
     ]
    }
   ],
   "source": [
    "from pint import UnitRegistry\n",
    "import numpy as np\n",
    "\n",
    "# Init units\n",
    "u = UnitRegistry()\n",
    "\n",
    "# sat positional params\n",
    "# ---------------------\n",
    "sat_altitude = 540.0 * u.km\n",
    "ground_vel = 6998.1 * u.m / u.s\n",
    "\n",
    "# scene ref params\n",
    "# ----------------\n",
    "ref_wavelength = 632 * u.nm\n"
   ]
  },
  {
   "cell_type": "markdown",
   "id": "624eb22e",
   "metadata": {},
   "source": [
    "Optical Parameters are given below:"
   ]
  },
  {
   "cell_type": "code",
   "execution_count": null,
   "id": "25cf13b8",
   "metadata": {},
   "outputs": [],
   "source": [
    "# optical params\n",
    "# -------------\n",
    "\n",
    "focal_length = 580 * u.mm\n",
    "aperture_diam = 95 * u.mm\n",
    "# image diameter on the focal plane\n",
    "image_diam_on_focal_plane = 30 * u.mm \n",
    "f_nr = focal_length / aperture_diam\n",
    "full_fov = 2*np.arctan((image_diam_on_focal_plane/2.)/focal_length)\n",
    "aperture_area = np.pi * (aperture_diam/2.)**2\n",
    "# solid angle = 2pi h/r\n",
    "aperture_solid_angle = np.pi / (focal_length / (aperture_diam/2.))**2 * u.rad * u.rad\n",
    "opt_cutoff_freq = 1./(ref_wavelength*f_nr) # perfect incoherent optics\n",
    "\n",
    "print(f\"F-number: {f_nr:~.4}\")\n",
    "print(f\"Full FoV: {full_fov.to(u.deg):~.4}\")\n",
    "\n",
    "print(f\"Optical cut-off frequency: {opt_cutoff_freq.to(1/u.mm):~.4} (number of cycles)\")"
   ]
  }
 ],
 "metadata": {
  "kernelspec": {
   "display_name": "Python 3 (ipykernel)",
   "language": "python",
   "name": "python3"
  },
  "language_info": {
   "codemirror_mode": {
    "name": "ipython",
    "version": 3
   },
   "file_extension": ".py",
   "mimetype": "text/x-python",
   "name": "python",
   "nbconvert_exporter": "python",
   "pygments_lexer": "ipython3",
   "version": "3.12.1"
  }
 },
 "nbformat": 4,
 "nbformat_minor": 5
}
