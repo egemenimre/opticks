{
 "cells": [
  {
   "cell_type": "markdown",
   "metadata": {},
   "source": [
    "# Sample YAML file reader with schema.\n",
    "\n",
    "Start with the opticks package import (as the notebook sometimes fails to find it)"
   ]
  },
  {
   "cell_type": "code",
   "execution_count": 12,
   "metadata": {},
   "outputs": [],
   "source": [
    "# If opticks import fails, try to locate the module\n",
    "import os\n",
    "\n",
    "try:\n",
    "    import opticks\n",
    "except ModuleNotFoundError:\n",
    "    os.chdir(os.path.join(\"..\", \"..\"))\n",
    "    os.getcwd()"
   ]
  },
  {
   "cell_type": "markdown",
   "metadata": {},
   "source": [
    "Now start with code proper"
   ]
  },
  {
   "cell_type": "code",
   "execution_count": 13,
   "metadata": {},
   "outputs": [
    {
     "name": "stdout",
     "output_type": "stream",
     "text": [
      "{'name': 'Sample Full-Frame Detector', 'detector type': 'full frame', 'pixel pitch': <Quantity(12, 'micrometer')>, 'horizontal pixels': 1920, 'vertical pixels': 1080, 'horizontal pixels used': 1920, 'vertical pixels used': 1080, 'binning': 1, 'timings': {'frame rate': <Quantity(29.97, 'hertz')>, 'integration duration': <Quantity(13.34, 'millisecond')>, 'frame overhead duration': <Quantity(0, 'millisecond')>, 'frame overlap duration': <Quantity(0, 'millisecond')>}, 'tdi stages': 1}\n",
      "-------------------\n",
      "Sample Full-Frame Detector\n",
      "-------------------\n",
      "{'frame rate': <Quantity(29.97, 'hertz')>, 'integration duration': <Quantity(13.34, 'millisecond')>, 'frame overhead duration': <Quantity(0, 'millisecond')>, 'frame overlap duration': <Quantity(0, 'millisecond')>}\n",
      "-------------------\n",
      "13.34 millisecond\n",
      "-------------------\n"
     ]
    }
   ],
   "source": [
    "import os\n",
    "\n",
    "from opticks.schemas.imager_schema import detector_schema\n",
    "from pint import UnitRegistry\n",
    "from strictyaml import load, Map, Str, YAMLError, ScalarValidator\n",
    "\n",
    "if __name__ == \"__main__\":\n",
    "\n",
    "    file_directory =  \"sample_drone_imager\"\n",
    "    config_file_name = \"detector.yaml\"\n",
    "\n",
    "    schema = Map(detector_schema)\n",
    "\n",
    "    with open(os.path.join(\"docs\", \"examples\", file_directory, config_file_name), \"r\") as file:\n",
    "        try:\n",
    "\n",
    "            imager_data = load(file.read(), schema, label=config_file_name)\n",
    "\n",
    "            # get entire dataset as dict:\n",
    "            print(imager_data.data)\n",
    "            print(\"-------------------\")\n",
    "\n",
    "            # get single data:\n",
    "\n",
    "            # as YAML object\n",
    "            print(imager_data.get(\"name\"))\n",
    "            print(\"-------------------\")\n",
    "\n",
    "            # as dict\n",
    "            print(imager_data.get(\"timings\").data)\n",
    "            print(\"-------------------\")\n",
    "\n",
    "            # as Quantity object\n",
    "            print(imager_data.get(\"timings\")[\"integration duration\"].value)\n",
    "            print(\"-------------------\")\n",
    "\n",
    "        except YAMLError as error:\n",
    "            print(error)\n"
   ]
  }
 ],
 "metadata": {
  "kernelspec": {
   "display_name": "Python 3",
   "language": "python",
   "name": "python3"
  },
  "language_info": {
   "codemirror_mode": {
    "name": "ipython",
    "version": 3
   },
   "file_extension": ".py",
   "mimetype": "text/x-python",
   "name": "python",
   "nbconvert_exporter": "python",
   "pygments_lexer": "ipython3",
   "version": "3.12.1"
  }
 },
 "nbformat": 4,
 "nbformat_minor": 2
}
