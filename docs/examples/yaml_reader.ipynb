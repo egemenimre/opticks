{
 "cells": [
  {
   "cell_type": "markdown",
   "metadata": {},
   "source": [
    "# Sample YAML file reader with schema.\n",
    "\n",
    "Start with the opticks package import (as the notebook sometimes fails to find it)"
   ]
  },
  {
   "cell_type": "code",
   "execution_count": 1,
   "metadata": {},
   "outputs": [],
   "source": [
    "# If opticks import fails, try to locate the module\n",
    "import os\n",
    "\n",
    "try:\n",
    "    import opticks\n",
    "except ModuleNotFoundError:\n",
    "    os.chdir(os.path.join(\"..\", \"..\"))\n",
    "    os.getcwd()"
   ]
  },
  {
   "cell_type": "markdown",
   "metadata": {},
   "source": [
    "Now start with code proper"
   ]
  },
  {
   "cell_type": "code",
   "execution_count": 2,
   "metadata": {},
   "outputs": [
    {
     "ename": "ModuleNotFoundError",
     "evalue": "No module named 'strictyaml'",
     "output_type": "error",
     "traceback": [
      "\u001b[0;31m---------------------------------------------------------------------------\u001b[0m",
      "\u001b[0;31mModuleNotFoundError\u001b[0m                       Traceback (most recent call last)",
      "Cell \u001b[0;32mIn[2], line 3\u001b[0m\n\u001b[1;32m      1\u001b[0m \u001b[38;5;28;01mimport\u001b[39;00m \u001b[38;5;21;01mos\u001b[39;00m\n\u001b[0;32m----> 3\u001b[0m \u001b[38;5;28;01mfrom\u001b[39;00m \u001b[38;5;21;01mopticks\u001b[39;00m\u001b[38;5;21;01m.\u001b[39;00m\u001b[38;5;21;01mschemas\u001b[39;00m\u001b[38;5;21;01m.\u001b[39;00m\u001b[38;5;21;01mimager_schema\u001b[39;00m \u001b[38;5;28;01mimport\u001b[39;00m detector_schema\n\u001b[1;32m      4\u001b[0m \u001b[38;5;28;01mfrom\u001b[39;00m \u001b[38;5;21;01mpint\u001b[39;00m \u001b[38;5;28;01mimport\u001b[39;00m UnitRegistry\n\u001b[1;32m      5\u001b[0m \u001b[38;5;28;01mfrom\u001b[39;00m \u001b[38;5;21;01mstrictyaml\u001b[39;00m \u001b[38;5;28;01mimport\u001b[39;00m load, Map, Str, YAMLError, ScalarValidator\n",
      "File \u001b[0;32m/workspaces/opticks/opticks/schemas/imager_schema.py:7\u001b[0m\n\u001b[1;32m      1\u001b[0m \u001b[38;5;66;03m# opticks: Sizing Tool for Optical Systems\u001b[39;00m\n\u001b[1;32m      2\u001b[0m \u001b[38;5;66;03m#\u001b[39;00m\n\u001b[1;32m      3\u001b[0m \u001b[38;5;66;03m# Copyright (C) 2024 Egemen Imre\u001b[39;00m\n\u001b[1;32m      4\u001b[0m \u001b[38;5;66;03m#\u001b[39;00m\n\u001b[1;32m      5\u001b[0m \u001b[38;5;66;03m# Licensed under GNU GPL v3.0. See LICENSE.md for more info.\u001b[39;00m\n\u001b[0;32m----> 7\u001b[0m \u001b[38;5;28;01mfrom\u001b[39;00m \u001b[38;5;21;01mstrictyaml\u001b[39;00m \u001b[38;5;28;01mimport\u001b[39;00m Map, Str, Enum, Int, Optional, Float, Bool\n\u001b[1;32m      9\u001b[0m \u001b[38;5;28;01mfrom\u001b[39;00m \u001b[38;5;21;01mopticks\u001b[39;00m \u001b[38;5;28;01mimport\u001b[39;00m u\n\u001b[1;32m     10\u001b[0m \u001b[38;5;28;01mfrom\u001b[39;00m \u001b[38;5;21;01mopticks\u001b[39;00m\u001b[38;5;21;01m.\u001b[39;00m\u001b[38;5;21;01mutils\u001b[39;00m\u001b[38;5;21;01m.\u001b[39;00m\u001b[38;5;21;01myaml_helpers\u001b[39;00m \u001b[38;5;28;01mimport\u001b[39;00m Qty\n",
      "\u001b[0;31mModuleNotFoundError\u001b[0m: No module named 'strictyaml'"
     ]
    }
   ],
   "source": [
    "import os\n",
    "\n",
    "from opticks.schemas.imager_schema import detector_schema\n",
    "from pint import UnitRegistry\n",
    "from strictyaml import load, Map, Str, YAMLError, ScalarValidator\n",
    "\n",
    "if __name__ == \"__main__\":\n",
    "    file_directory = \"sample_drone_imager\"\n",
    "    config_file_path = \"detector.yaml\"\n",
    "\n",
    "    schema = Map(detector_schema)\n",
    "\n",
    "    with open(os.path.join(file_directory, config_file_path), \"r\") as file:\n",
    "        try:\n",
    "\n",
    "            imager_data = load(file.read(), schema, label=config_file_path)\n",
    "\n",
    "            # get entire dataset as dict:\n",
    "            print(imager_data.data)\n",
    "\n",
    "            # get single data:\n",
    "\n",
    "            # as YAML object\n",
    "            print(imager_data.get(\"name\"))\n",
    "\n",
    "            # as dict\n",
    "            print(imager_data.get(\"timings\").data)\n",
    "\n",
    "            # as Quantity object\n",
    "            print(imager_data.get(\"timings\")[\"integration duration\"].value)\n",
    "\n",
    "        except YAMLError as error:\n",
    "            print(error)\n"
   ]
  }
 ],
 "metadata": {
  "kernelspec": {
   "display_name": "Python 3",
   "language": "python",
   "name": "python3"
  },
  "language_info": {
   "codemirror_mode": {
    "name": "ipython",
    "version": 3
   },
   "file_extension": ".py",
   "mimetype": "text/x-python",
   "name": "python",
   "nbconvert_exporter": "python",
   "pygments_lexer": "ipython3",
   "version": "3.12.1"
  }
 },
 "nbformat": 4,
 "nbformat_minor": 2
}
