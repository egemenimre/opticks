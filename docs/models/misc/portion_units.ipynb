{
 "cells": [
  {
   "cell_type": "markdown",
   "metadata": {},
   "source": [
    "# Combining `Portion` and `astropy.units`\n",
    "\n",
    "`Portion` module handles intervals and `astropy.units` handles units. While they can be combined relatively painlessly, the handling of infinity requires a wrapper on `Portion`. \n",
    "\n",
    "But before coming to that, we can have a look at how things work when everything is set up."
   ]
  },
  {
   "cell_type": "markdown",
   "metadata": {},
   "source": [
    "We have to start with the opticks package import as well as some other useful packages."
   ]
  },
  {
   "cell_type": "code",
   "execution_count": 1,
   "metadata": {},
   "outputs": [],
   "source": [
    "# If opticks import fails, try to locate the module\n",
    "# This can happen building the docs\n",
    "import os\n",
    "\n",
    "try:\n",
    "    import opticks\n",
    "except ModuleNotFoundError:\n",
    "    os.chdir(os.path.join(\"..\", \"..\"))\n",
    "    os.getcwd()"
   ]
  },
  {
   "cell_type": "code",
   "execution_count": 2,
   "metadata": {},
   "outputs": [],
   "source": [
    "import warnings\n",
    "\n",
    "from opticks import Q_, u, P\n",
    "\n",
    "warnings.filterwarnings(\"always\")"
   ]
  },
  {
   "cell_type": "markdown",
   "metadata": {},
   "source": [
    "Units support for portion 'Interval' objects work just fine. Here we initialise two intervals and then compute the \"union\"."
   ]
  },
  {
   "cell_type": "code",
   "execution_count": 3,
   "metadata": {},
   "outputs": [
    {
     "name": "stdout",
     "output_type": "stream",
     "text": [
      "[<Quantity 0. mm>,<Quantity 1. mm>] | [<Quantity 1.2 mm>,<Quantity 2.4 mm>]\n"
     ]
    }
   ],
   "source": [
    "a = P.closed(0 * u.mm, 1 * u.mm)\n",
    "\n",
    "b = P.closed(1.2 * u.mm, 2.4 * u.mm)\n",
    "\n",
    "c = a | b\n",
    "\n",
    "print(c)"
   ]
  },
  {
   "cell_type": "markdown",
   "metadata": {},
   "source": [
    "As expected, combining floats with units is a bad idea."
   ]
  },
  {
   "cell_type": "code",
   "execution_count": 4,
   "metadata": {},
   "outputs": [
    {
     "name": "stdout",
     "output_type": "stream",
     "text": [
      "[0,1]\n",
      "[<Quantity 1.2 mm>,<Quantity 2.4 mm>]\n",
      "Can't mix float Intervals with Units!\n"
     ]
    }
   ],
   "source": [
    "float_interval = P.closed(0, 1)\n",
    "\n",
    "print(float_interval)\n",
    "print(b)\n",
    "try:\n",
    "    d = float_interval | b\n",
    "except ValueError:\n",
    "    print(\"Can't mix float Intervals with Units!\")"
   ]
  },
  {
   "cell_type": "markdown",
   "metadata": {},
   "source": [
    "Infinity does not need units and assigning units to infinity is not possible."
   ]
  },
  {
   "cell_type": "code",
   "execution_count": 7,
   "metadata": {},
   "outputs": [
    {
     "name": "stdout",
     "output_type": "stream",
     "text": [
      "True\n",
      "True\n",
      "True\n",
      "****************\n",
      "[<Quantity -inf Hz>,<Quantity 10. Hz>]\n",
      "Can't init P.inf with Units!\n",
      "(<Quantity -inf Hz>,<Quantity 10. Hz>]\n"
     ]
    }
   ],
   "source": [
    "# compare inf to float interval\n",
    "print(P.inf > float_interval)\n",
    "\n",
    "# compare inf to Quantity\n",
    "print(P.inf > 10 * u.mm)\n",
    "\n",
    "# compare inf to Quantity interval\n",
    "print(-P.inf < b)\n",
    "\n",
    "print(\"****************\")\n",
    "\n",
    "# First way to define Inf with units\n",
    "ninf = Q_(\"-inf\") * u.Hz\n",
    "pinf = Q_(\"+inf Hz\")\n",
    "interval_1 = P.closed(ninf, 10 * u.Hz)\n",
    "print(interval_1)\n",
    "\n",
    "# To define Inf with units does not work\n",
    "try:\n",
    "    interval_2 = P.closed(-P.inf * u.Hz, 10 * u.Hz)\n",
    "except TypeError:\n",
    "    print(\"Can't init P.inf with Units!\")\n",
    "\n",
    "# full range Interval\n",
    "inf = P.open(ninf, pinf)\n",
    "\n",
    "# check intersection operation\n",
    "print(interval_1 & inf)"
   ]
  },
  {
   "cell_type": "markdown",
   "metadata": {},
   "source": [
    "The `IntervalDict` objects are also supported to work with units. The following definition mimicks a band-pass filter that is defined within 20 Hz and there are two bands (0 to 1 Hz and 2 to 3 Hz) where signal passes."
   ]
  },
  {
   "cell_type": "code",
   "execution_count": 8,
   "metadata": {},
   "outputs": [
    {
     "name": "stdout",
     "output_type": "stream",
     "text": [
      "{[<Quantity -10. Hz>,<Quantity 0. Hz>) | (<Quantity 1. Hz>,<Quantity 2. Hz>) | (<Quantity 3. Hz>,<Quantity 10. Hz>]: 0, [<Quantity 0. Hz>,<Quantity 1. Hz>] | [<Quantity 2. Hz>,<Quantity 3. Hz>]: 1.0}\n"
     ]
    }
   ],
   "source": [
    "data = P.IntervalDict()\n",
    "# interval of validity\n",
    "validity = P.closed(-10 * u.Hz, 10 * u.Hz)\n",
    "data[validity] = 0\n",
    "# data proper\n",
    "first_rng = P.closed(0 * u.Hz, 1 * u.Hz)\n",
    "data[first_rng] = 1.0\n",
    "second_rng = P.closed(2 * u.Hz, 3 * u.Hz)\n",
    "data[second_rng] = 1.0\n",
    "\n",
    "print(data)"
   ]
  }
 ],
 "metadata": {
  "kernelspec": {
   "display_name": "opticks",
   "language": "python",
   "name": "python3"
  },
  "language_info": {
   "codemirror_mode": {
    "name": "ipython",
    "version": 3
   },
   "file_extension": ".py",
   "mimetype": "text/x-python",
   "name": "python",
   "nbconvert_exporter": "python",
   "pygments_lexer": "ipython3",
   "version": "3.12.4"
  }
 },
 "nbformat": 4,
 "nbformat_minor": 2
}
