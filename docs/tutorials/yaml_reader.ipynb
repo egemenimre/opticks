{
 "cells": [
  {
   "cell_type": "markdown",
   "metadata": {},
   "source": [
    "# Sample YAML File Reader with Schema\n",
    "\n",
    "Start with the opticks package import (as the notebook sometimes fails to find it)"
   ]
  },
  {
   "cell_type": "code",
   "execution_count": 16,
   "metadata": {},
   "outputs": [],
   "source": [
    "# If opticks import fails, try to locate the module\n",
    "import os\n",
    "\n",
    "try:\n",
    "    import opticks\n",
    "except ModuleNotFoundError:\n",
    "    os.chdir(os.path.join(\"..\", \"..\"))\n",
    "    os.getcwd()"
   ]
  },
  {
   "cell_type": "markdown",
   "metadata": {},
   "source": [
    "Now start with code proper with the imports. Then define the file input locations.\n",
    "\n",
    "You may need to modify the directory locations. At the final step, initialise the 'Imager' object from the files."
   ]
  },
  {
   "cell_type": "code",
   "execution_count": 17,
   "metadata": {},
   "outputs": [
    {
     "name": "stdout",
     "output_type": "stream",
     "text": [
      "current working directory: c:\\Users\\EgemenImre\\PycharmProjects\\opticks\n",
      "optics file exists:  True\n",
      "detector file exists:  True\n"
     ]
    }
   ],
   "source": [
    "from pathlib import Path\n",
    "\n",
    "from opticks import u\n",
    "from opticks.imager_model.imager import Imager\n",
    "\n",
    "# print(f\"current working directory: {Path.cwd()}\")\n",
    "\n",
    "file_directory = Path(\"docs\", \"examples\", \"sample_drone_imager\")\n",
    "optics_file_path = file_directory.joinpath(\"optics.yaml\")\n",
    "detector_file_path = file_directory.joinpath(\"detector.yaml\")\n",
    "\n",
    "# check whether input files exist\n",
    "print(f\"optics file exists:  {optics_file_path.is_file()}\")\n",
    "print(f\"detector file exists:  {detector_file_path.is_file()}\")\n",
    "\n",
    "imager = Imager.from_yaml_file(optics_file_path, detector_file_path, None)"
   ]
  },
  {
   "cell_type": "markdown",
   "metadata": {},
   "source": [
    "Let's get some sample output values for the optics."
   ]
  },
  {
   "cell_type": "code",
   "execution_count": 18,
   "metadata": {},
   "outputs": [
    {
     "name": "stdout",
     "output_type": "stream",
     "text": [
      "name : Sample Reflective Optics\n",
      "focal length : 1270 mm\n",
      "aperture diameter : 25 in\n",
      "image diameter on focal plane : 27 mm\n",
      "f-number : 2.0\n",
      "full optical fov : 1.218 deg\n",
      "aperture area : 490.874 in²\n"
     ]
    }
   ],
   "source": [
    "# shorthand\n",
    "optics = imager.optics\n",
    "\n",
    "# basic params\n",
    "print(f\"name : {optics.params.name}\")\n",
    "print(f\"focal length : {optics.params.focal_length:~}\")\n",
    "print(f\"aperture diameter : {optics.params.aperture_diameter:~}\")\n",
    "print(\n",
    "    f\"image diameter on focal plane : {optics.params.image_diam_on_focal_plane:~}\"\n",
    ")\n",
    "\n",
    "# derived params\n",
    "print(f\"f-number : {optics.f_number:.4}\")\n",
    "print(f\"full optical fov : {optics.full_optical_fov:~P.4}\")\n",
    "print(f\"aperture area : {optics.aperture_area:~P.6}\")"
   ]
  }
 ],
 "metadata": {
  "kernelspec": {
   "display_name": "Python 3",
   "language": "python",
   "name": "python3"
  },
  "language_info": {
   "codemirror_mode": {
    "name": "ipython",
    "version": 3
   },
   "file_extension": ".py",
   "mimetype": "text/x-python",
   "name": "python",
   "nbconvert_exporter": "python",
   "pygments_lexer": "ipython3",
   "version": "3.12.4"
  }
 },
 "nbformat": 4,
 "nbformat_minor": 2
}
